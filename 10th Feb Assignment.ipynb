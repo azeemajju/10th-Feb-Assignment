{
 "cells": [
  {
   "cell_type": "code",
   "execution_count": null,
   "id": "6376fea5",
   "metadata": {},
   "outputs": [],
   "source": [
    "#(Q1):\n",
    "'''Ans. open() is used to open a file, this function returns a file object and takes two arguments one\n",
    "that accept the file name and another accept mode (access mode),Access mode is the type of\n",
    "operations possible in the open file. There are six type of mode:\n",
    "\n",
    "1-Read Only('r') - It is default mode in which file is opened.\n",
    "2-Write Only('w') - Open the file for writting and, for existing file the data is over-written and also\n",
    "creates a file if file doesnt exist.\n",
    "3-Read and Write('r+') - Open the file for read and write.\n",
    "4-Write and Read('w+') - Open the file for reading and writing, for existing files data is over-written.\n",
    "5-Append Only('a') - Open the file for writing, file created if doesnt exist, the data is written \n",
    "will be inserted at the end after existing data.\n",
    "6-Append and Read('a+') - Open the file for read and write, the file is created if doesnt exist,the\n",
    "data is inserted at the end after the existing data.'''"
   ]
  },
  {
   "cell_type": "code",
   "execution_count": null,
   "id": "eadd954c",
   "metadata": {},
   "outputs": [],
   "source": [
    "#(Q2):\n",
    "'''The close () method closes an open file. You should always close your files,\n",
    "in some cases, due to buffering, changes made to a file may not show until you close the file.'''"
   ]
  },
  {
   "cell_type": "code",
   "execution_count": 4,
   "id": "2525abaa",
   "metadata": {},
   "outputs": [],
   "source": [
    "#(Q3):\n",
    "file_created = open(\"C:\\\\Users\\\\Let\\\\Desktop\\\\New folder\\my_file.txt\",'w')\n",
    "file_created.write(\"I want to become a data scientist\")\n",
    "print(\"write successful\")\n",
    "\n",
    "file_created = open(\"C:\\\\Users\\\\Let\\\\Desktop\\\\New folder\\my_file.txt\",'r')\n",
    "print(file_created.readlines())\n",
    "print(\"read successful\")"
   ]
  },
  {
   "cell_type": "code",
   "execution_count": 6,
   "id": "f1f7d517",
   "metadata": {},
   "outputs": [],
   "source": [
    "#(Q4):\n",
    "file = open(\"E:\\\\files\\make.txt\",\"w\")\n",
    "file.write(\"i want to meet\\nsir sudhanshu\")\n",
    "print(\"file write successfully\")"
   ]
  },
  {
   "cell_type": "code",
   "execution_count": null,
   "id": "9bfbf491",
   "metadata": {},
   "outputs": [],
   "source": [
    "file = open(\"E:\\\\files\\make.txt\",\"r\")\n",
    "file.read(2)"
   ]
  },
  {
   "cell_type": "code",
   "execution_count": null,
   "id": "317c06a0",
   "metadata": {},
   "outputs": [],
   "source": [
    "#(Q5):\n",
    "'''with statement is used in exception handling to make the code cleaner and much more readable. \n",
    "It simplifies the management of common resources like file stream'''"
   ]
  },
  {
   "cell_type": "code",
   "execution_count": null,
   "id": "36036a4a",
   "metadata": {},
   "outputs": [],
   "source": [
    "#(Q6):\n",
    "'''The write() function will write the content in the file without adding any extra characters.\n",
    "the writelines() function is written into the opened file. Similar to the write() function, the writelines()\n",
    "function does not add a newline character(\\n) to the end of the string.'''"
   ]
  },
  {
   "cell_type": "code",
   "execution_count": null,
   "id": "a7c0c80b",
   "metadata": {},
   "outputs": [],
   "source": []
  },
  {
   "cell_type": "code",
   "execution_count": null,
   "id": "4036a52c",
   "metadata": {},
   "outputs": [],
   "source": []
  },
  {
   "cell_type": "code",
   "execution_count": null,
   "id": "e3844527",
   "metadata": {},
   "outputs": [],
   "source": []
  },
  {
   "cell_type": "code",
   "execution_count": null,
   "id": "83f50e30",
   "metadata": {},
   "outputs": [],
   "source": []
  },
  {
   "cell_type": "code",
   "execution_count": null,
   "id": "2c5858cd",
   "metadata": {},
   "outputs": [],
   "source": []
  },
  {
   "cell_type": "code",
   "execution_count": null,
   "id": "8df2304a",
   "metadata": {},
   "outputs": [],
   "source": []
  },
  {
   "cell_type": "code",
   "execution_count": null,
   "id": "e4f09668",
   "metadata": {},
   "outputs": [],
   "source": []
  },
  {
   "cell_type": "code",
   "execution_count": null,
   "id": "d6977a06",
   "metadata": {},
   "outputs": [],
   "source": []
  },
  {
   "cell_type": "code",
   "execution_count": null,
   "id": "b0076ada",
   "metadata": {},
   "outputs": [],
   "source": []
  },
  {
   "cell_type": "code",
   "execution_count": null,
   "id": "7aeff875",
   "metadata": {},
   "outputs": [],
   "source": []
  }
 ],
 "metadata": {
  "kernelspec": {
   "display_name": "Python 3 (ipykernel)",
   "language": "python",
   "name": "python3"
  },
  "language_info": {
   "codemirror_mode": {
    "name": "ipython",
    "version": 3
   },
   "file_extension": ".py",
   "mimetype": "text/x-python",
   "name": "python",
   "nbconvert_exporter": "python",
   "pygments_lexer": "ipython3",
   "version": "3.9.13"
  }
 },
 "nbformat": 4,
 "nbformat_minor": 5
}
